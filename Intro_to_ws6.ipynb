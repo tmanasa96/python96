{
 "cells": [
  {
   "cell_type": "code",
   "execution_count": null,
   "metadata": {},
   "outputs": [],
   "source": []
  },
  {
   "cell_type": "markdown",
   "metadata": {},
   "source": [
    "Jaccard Coefficient"
   ]
  },
  {
   "cell_type": "code",
   "execution_count": null,
   "metadata": {},
   "outputs": [],
   "source": [
    "import numpy as np"
   ]
  },
  {
   "cell_type": "code",
   "execution_count": 1,
   "metadata": {},
   "outputs": [
    {
     "name": "stdout",
     "output_type": "stream",
     "text": [
      "Jaccard coefficient between documents D1 and D2: 3.0\n",
      "Jaccard coefficient between documents D1 and D2: 16.0\n",
      "Jaccard coefficient between documents D1 and D2: 14.0\n"
     ]
    }
   ],
   "source": [
    "𝐷1 = \"this is a text about web science\"\n",
    "𝐷2 = \"web science is covering the analysis of text corpa\"\n",
    "𝐷3 = \"scientific methods are used to analyze web pages\"\n",
    "\n",
    "sd1=set(D1.split())\n",
    "sd2=set(D2.split())\n",
    "sd3=set(D3.split())\n",
    "\n",
    "def Jaccardcoefficient(A, B):\n",
    "    union = A&B\n",
    "    intersection=A|B\n",
    "    return float(len(intersection)) / len(union)\n",
    "\n",
    "Jc12=Jaccardcoefficient(sd1, sd2)\n",
    "Jc23=Jaccardcoefficient(sd2, sd3)\n",
    "Jc13=Jaccardcoefficient(sd1, sd3)\n",
    "\n",
    "print(\"Jaccard coefficient between documents D1 and D2: \"+str(Jc12))\n",
    "print(\"Jaccard coefficient between documents D1 and D2: \"+str(Jc23))\n",
    "print(\"Jaccard coefficient between documents D1 and D2: \"+str(Jc13))\n"
   ]
  },
  {
   "cell_type": "markdown",
   "metadata": {},
   "source": [
    "Cosine similarity"
   ]
  },
  {
   "cell_type": "code",
   "execution_count": null,
   "metadata": {},
   "outputs": [],
   "source": []
  }
 ],
 "metadata": {
  "kernelspec": {
   "display_name": "Python 3",
   "language": "python",
   "name": "python3"
  },
  "language_info": {
   "codemirror_mode": {
    "name": "ipython",
    "version": 3
   },
   "file_extension": ".py",
   "mimetype": "text/x-python",
   "name": "python",
   "nbconvert_exporter": "python",
   "pygments_lexer": "ipython3",
   "version": "3.7.3"
  }
 },
 "nbformat": 4,
 "nbformat_minor": 2
}
